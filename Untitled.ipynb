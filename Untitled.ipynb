{
 "cells": [
  {
   "cell_type": "code",
   "execution_count": 2,
   "id": "8a11237d-427c-44b8-aefc-753db7121a8f",
   "metadata": {},
   "outputs": [],
   "source": [
    "from flask import send_from_directory\n"
   ]
  },
  {
   "cell_type": "code",
   "execution_count": 11,
   "id": "0d5889c5-f61f-4821-90a7-60db04b8c3e9",
   "metadata": {},
   "outputs": [
    {
     "name": "stdout",
     "output_type": "stream",
     "text": [
      "naem.pdf\n",
      "pdf\n",
      "naem\n"
     ]
    }
   ],
   "source": [
    "m = 'naem.pdf'\n",
    "ext = m.split('.')[-1]\n",
    "full_name = '.'.join(m.split('.')[0:-1])\n",
    "\n",
    "\n",
    "print(m)\n",
    "print(ext)\n",
    "print(full_name)"
   ]
  },
  {
   "cell_type": "code",
   "execution_count": null,
   "id": "4ca0eda6-e782-49c2-a3e6-790038370bf1",
   "metadata": {},
   "outputs": [],
   "source": [
    "send_from_directory()"
   ]
  },
  {
   "cell_type": "markdown",
   "id": "8ace6f99-a16e-48af-aef4-d763c010d8c7",
   "metadata": {},
   "source": [
    "## PDF2JPG"
   ]
  },
  {
   "cell_type": "code",
   "execution_count": 22,
   "id": "3950a1f5-2024-4e69-b65e-0d5b8d3efa17",
   "metadata": {},
   "outputs": [],
   "source": [
    "import os\n",
    "from pdf2image import convert_from_path\n",
    "\n",
    "pdf_path = '01.pdf'\n",
    "\n",
    "pages = convert_from_path(pdf_path, dpi=600)\n",
    "\n",
    "for idx, page in enumerate(pages):\n",
    "    page.save(os.path.join('pages/', f'{idx}.jpg'))\n"
   ]
  },
  {
   "cell_type": "markdown",
   "id": "865d110f-ff25-4ef6-8deb-928e52c95182",
   "metadata": {},
   "source": [
    "## Text Extraction"
   ]
  },
  {
   "cell_type": "code",
   "execution_count": 23,
   "id": "ca9fc449-12d0-40c0-8f81-4acf15c64070",
   "metadata": {},
   "outputs": [],
   "source": [
    "import os\n",
    "import cv2\n",
    "import pytesseract\n",
    "from PIL import Image\n",
    "from pytesseract import Output\n",
    "from multiprocess import Pool\n",
    "\n",
    "pytesseract.pytesseract.tesseract_cmd = r'/usr/bin/tesseract'"
   ]
  },
  {
   "cell_type": "code",
   "execution_count": 24,
   "id": "031be647-03da-460d-988d-c2623a2c8636",
   "metadata": {},
   "outputs": [],
   "source": [
    "def extract(img):\n",
    "\n",
    "    full_name = img.split('/')[1].split('.')[0]\n",
    "\n",
    "    output = pytesseract.image_to_data(img, output_type=Output.DATAFRAME, lang='Arabic')\n",
    "\n",
    "    text = output.iloc[:, -1].to_list()\n",
    "\n",
    "    clean_text = ''\n",
    "\n",
    "    for word in text:\n",
    "        if isinstance(word, str):\n",
    "            clean_text+=word + ' '\n",
    "\n",
    "\n",
    "    with open(os.path.join('output/', f'{full_name}.txt'), 'w') as file:\n",
    "        file.write(clean_text)"
   ]
  },
  {
   "cell_type": "code",
   "execution_count": 25,
   "id": "a21453d3-1d0a-43e1-bed7-3aa131297e28",
   "metadata": {},
   "outputs": [],
   "source": [
    "images_path = [os.path.join('pages/' ,i) for i in os.listdir('pages/')]"
   ]
  },
  {
   "cell_type": "code",
   "execution_count": 26,
   "id": "dea55db1-7053-474a-a579-81fb5d104028",
   "metadata": {},
   "outputs": [
    {
     "name": "stdout",
     "output_type": "stream",
     "text": [
      "CPU times: user 61.1 ms, sys: 441 ms, total: 502 ms\n",
      "Wall time: 1min 16s\n"
     ]
    }
   ],
   "source": [
    "%%time\n",
    "\n",
    "for img in images_path:\n",
    "\n",
    "    full_name = img.split('/')[1].split('.')[0]\n",
    "    \n",
    "    output = pytesseract.image_to_data(img, output_type=Output.DATAFRAME, lang='Arabic', )\n",
    "    \n",
    "    text = output.iloc[:, -1].to_list()\n",
    "\n",
    "    clean_text = ''\n",
    "\n",
    "    for word in text:\n",
    "        if isinstance(word, str):\n",
    "            clean_text+=word + ' '\n",
    "\n",
    "\n",
    "    with open(os.path.join('output/', f'{full_name}.txt'), 'w') as file:\n",
    "        file.write(clean_text)"
   ]
  },
  {
   "cell_type": "markdown",
   "id": "c1a5d4ee-5e1c-4772-a335-d0b7ee7fec50",
   "metadata": {},
   "source": [
    "## Calculate WER"
   ]
  },
  {
   "cell_type": "code",
   "execution_count": 70,
   "id": "dd03646b-68d5-4674-822e-c09887be058b",
   "metadata": {},
   "outputs": [
    {
     "name": "stdout",
     "output_type": "stream",
     "text": [
      "Average error rate: 0.962882096069869\n"
     ]
    }
   ],
   "source": [
    "import os\n",
    "import re\n",
    "from jiwer import wer\n",
    "from tika import parser\n",
    "\n",
    "extracted_path = [os.path.join('output/' ,i) for i in os.listdir('output/')]\n",
    "error_rate = []\n",
    "\n",
    "\n",
    "for ext_path in extracted_path:\n",
    "    \n",
    "    full_name = img.split('/')[1].split('.')[0]\n",
    "    \n",
    "    with open(ext_path, 'r') as file:\n",
    "        ext_text = file.read()\n",
    "        \n",
    "    ext_text = re.sub(r'[a-zA-Z?]', '', ext_text).strip() \n",
    "    \n",
    "    \n",
    "    with open(os.path.join('truth/', f'{full_name}.txt'), 'r') as file:\n",
    "        truth = file.read()\n",
    "        \n",
    "    truth = re.sub(r'[a-zA-Z?]', '', truth).strip() \n",
    "\n",
    "    error = wer(truth, ext_text)\n",
    "\n",
    "    error_rate.append(error)\n",
    "\n",
    "print(f'Average error rate: {sum(error_rate)/len(error_rate)}')"
   ]
  },
  {
   "cell_type": "markdown",
   "id": "a03a7c83-bb5f-4a57-b4d4-aefe55a32c62",
   "metadata": {},
   "source": [
    "## Get Ground Truth text"
   ]
  },
  {
   "cell_type": "code",
   "execution_count": 54,
   "id": "19bdb37b-6d8d-48ab-bc9e-7843b457e2ac",
   "metadata": {
    "tags": []
   },
   "outputs": [],
   "source": [
    "raw_xml = parser.from_file('01_removed.pdf', xmlContent=True)\n",
    "body = raw_xml['content'].split('<body>')[1].split('</body>')[0]    \n",
    "\n",
    "body_without_tag = body.replace(\"<p>\", \"\").replace(\"</p>\", \"\").replace(\"<div>\", \"\").replace(\"</div>\",\"\").replace(\"<p />\",\"\")\n",
    "text_pages = body_without_tag.split(\"\"\"<div class=\"page\">\"\"\")[1:]\n",
    "\n",
    "for idx, page in enumerate(text_pages):\n",
    "    page = re.sub(r'[a-zA-Z?]', '', page).strip() \n",
    "    page = page.replace('\\n', ' ')\n",
    "    \n",
    "    idx+=1\n",
    "    with open(f'truth/{idx}.txt', 'w') as file:\n",
    "        file.write(page)"
   ]
  }
 ],
 "metadata": {
  "kernelspec": {
   "display_name": "Python 3 (ipykernel)",
   "language": "python",
   "name": "python3"
  },
  "language_info": {
   "codemirror_mode": {
    "name": "ipython",
    "version": 3
   },
   "file_extension": ".py",
   "mimetype": "text/x-python",
   "name": "python",
   "nbconvert_exporter": "python",
   "pygments_lexer": "ipython3",
   "version": "3.9.13"
  }
 },
 "nbformat": 4,
 "nbformat_minor": 5
}
